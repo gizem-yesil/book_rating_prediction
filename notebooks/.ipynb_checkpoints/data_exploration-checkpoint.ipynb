{
 "cells": [
  {
   "cell_type": "code",
   "execution_count": 1,
   "id": "019a435e-17e6-49a0-9d65-17cf5056ea2d",
   "metadata": {},
   "outputs": [],
   "source": [
    "import pandas as pd"
   ]
  },
  {
   "cell_type": "code",
   "execution_count": 2,
   "id": "b43abace-9693-468c-8466-f7d6e1c9ddfd",
   "metadata": {},
   "outputs": [],
   "source": [
    "import json"
   ]
  },
  {
   "cell_type": "code",
   "execution_count": 3,
   "id": "a3849e2a-babe-41a4-8a80-35a8493ee513",
   "metadata": {},
   "outputs": [],
   "source": [
    "file_path= \"C:\\\\Users\\\\gizem\\\\Projects\\\\book_rating_prediction\\\\data\\\\dataset.json\"\n",
    "with open(file_path,\"r\",encoding=\"utf-8\") as f:\n",
    "    data=json.load(f)"
   ]
  },
  {
   "cell_type": "code",
   "execution_count": 4,
   "id": "f3798503-ad25-4325-944c-63bcbab6eb01",
   "metadata": {},
   "outputs": [
    {
     "name": "stdout",
     "output_type": "stream",
     "text": [
      "<class 'dict'>\n"
     ]
    }
   ],
   "source": [
    "print(type(data))"
   ]
  },
  {
   "cell_type": "code",
   "execution_count": 5,
   "id": "b02470b4-5300-443b-95d8-2376c705fa99",
   "metadata": {},
   "outputs": [
    {
     "name": "stdout",
     "output_type": "stream",
     "text": [
      "dict_keys(['schema', 'data'])\n"
     ]
    }
   ],
   "source": [
    "print(data.keys())"
   ]
  },
  {
   "cell_type": "code",
   "execution_count": 6,
   "id": "c3673019-ffbd-4d87-ad6e-0016a15bc2ec",
   "metadata": {},
   "outputs": [
    {
     "data": {
      "text/plain": [
       "{'fields': [{'name': 'helpful', 'type': 'string'},\n",
       "  {'name': 'rating', 'type': 'integer'},\n",
       "  {'name': 'reviewText', 'type': 'string'},\n",
       "  {'name': 'reviewTime', 'type': 'string'},\n",
       "  {'name': 'summary', 'type': 'string'}],\n",
       " 'pandas_version': '0.20.0'}"
      ]
     },
     "execution_count": 6,
     "metadata": {},
     "output_type": "execute_result"
    }
   ],
   "source": [
    "data[\"schema\"]"
   ]
  },
  {
   "cell_type": "code",
   "execution_count": 7,
   "id": "c2dd11a8-5412-4187-8062-cd1c951f6480",
   "metadata": {},
   "outputs": [
    {
     "data": {
      "text/plain": [
       "[{'helpful': '[0, 0]',\n",
       "  'rating': 5,\n",
       "  'reviewText': 'Great story line. Slow going at first but not too bad. Kept me interested to find out the end. Will purchase next book depending on the price.',\n",
       "  'reviewTime': '09 2, 2013',\n",
       "  'summary': 'slow going....but keeps you interested'},\n",
       " {'helpful': '[0, 0]',\n",
       "  'rating': 2,\n",
       "  'reviewText': 'To rushed. The story skips ahead to fast. Things are not explained properly. To many details are left out. And it is the details, after all, that make a book a book and not a movie.',\n",
       "  'reviewTime': '07 11, 2014',\n",
       "  'summary': 'Rushed'}]"
      ]
     },
     "execution_count": 7,
     "metadata": {},
     "output_type": "execute_result"
    }
   ],
   "source": [
    "data[\"data\"][:2]"
   ]
  },
  {
   "cell_type": "code",
   "execution_count": 8,
   "id": "b442fd99-2855-49e4-8d8b-f984dfbaab38",
   "metadata": {},
   "outputs": [],
   "source": [
    "from pandas import json_normalize"
   ]
  },
  {
   "cell_type": "code",
   "execution_count": 9,
   "id": "cf8f4b76-2b45-477e-968f-c1db92efab18",
   "metadata": {},
   "outputs": [],
   "source": [
    "df= pd.json_normalize(data[\"data\"])"
   ]
  },
  {
   "cell_type": "code",
   "execution_count": 10,
   "id": "2d8acbdf-e6ba-46b7-b549-2b60510cc133",
   "metadata": {
    "scrolled": true
   },
   "outputs": [
    {
     "data": {
      "text/html": [
       "<div>\n",
       "<style scoped>\n",
       "    .dataframe tbody tr th:only-of-type {\n",
       "        vertical-align: middle;\n",
       "    }\n",
       "\n",
       "    .dataframe tbody tr th {\n",
       "        vertical-align: top;\n",
       "    }\n",
       "\n",
       "    .dataframe thead th {\n",
       "        text-align: right;\n",
       "    }\n",
       "</style>\n",
       "<table border=\"1\" class=\"dataframe\">\n",
       "  <thead>\n",
       "    <tr style=\"text-align: right;\">\n",
       "      <th></th>\n",
       "      <th>helpful</th>\n",
       "      <th>rating</th>\n",
       "      <th>reviewText</th>\n",
       "      <th>reviewTime</th>\n",
       "      <th>summary</th>\n",
       "    </tr>\n",
       "  </thead>\n",
       "  <tbody>\n",
       "    <tr>\n",
       "      <th>0</th>\n",
       "      <td>[0, 0]</td>\n",
       "      <td>5</td>\n",
       "      <td>Great story line. Slow going at first but not ...</td>\n",
       "      <td>09 2, 2013</td>\n",
       "      <td>slow going....but keeps you interested</td>\n",
       "    </tr>\n",
       "    <tr>\n",
       "      <th>1</th>\n",
       "      <td>[0, 0]</td>\n",
       "      <td>2</td>\n",
       "      <td>To rushed. The story skips ahead to fast. Thin...</td>\n",
       "      <td>07 11, 2014</td>\n",
       "      <td>Rushed</td>\n",
       "    </tr>\n",
       "    <tr>\n",
       "      <th>2</th>\n",
       "      <td>[1, 1]</td>\n",
       "      <td>5</td>\n",
       "      <td>Not a lot of history before the two meet, but ...</td>\n",
       "      <td>04 20, 2014</td>\n",
       "      <td>short and sweet</td>\n",
       "    </tr>\n",
       "    <tr>\n",
       "      <th>3</th>\n",
       "      <td>[0, 0]</td>\n",
       "      <td>5</td>\n",
       "      <td>This was great, fun to read.  Just the  right ...</td>\n",
       "      <td>04 8, 2013</td>\n",
       "      <td>Great short story</td>\n",
       "    </tr>\n",
       "    <tr>\n",
       "      <th>4</th>\n",
       "      <td>[2, 2]</td>\n",
       "      <td>3</td>\n",
       "      <td>I gave the book 3 stars simply because the wri...</td>\n",
       "      <td>04 10, 2012</td>\n",
       "      <td>Easy Read and Intriguing Enough</td>\n",
       "    </tr>\n",
       "    <tr>\n",
       "      <th>5</th>\n",
       "      <td>[0, 0]</td>\n",
       "      <td>3</td>\n",
       "      <td>This was a book of short interviews from peopl...</td>\n",
       "      <td>07 6, 2014</td>\n",
       "      <td>History of the slaves and Civil War in Arkansas</td>\n",
       "    </tr>\n",
       "    <tr>\n",
       "      <th>6</th>\n",
       "      <td>[1, 1]</td>\n",
       "      <td>5</td>\n",
       "      <td>This is a very good  sexy story about two cous...</td>\n",
       "      <td>05 23, 2012</td>\n",
       "      <td>The Heat Of the Knight</td>\n",
       "    </tr>\n",
       "    <tr>\n",
       "      <th>7</th>\n",
       "      <td>[1, 2]</td>\n",
       "      <td>4</td>\n",
       "      <td>Fourty years after a lie was told by 6 cheerle...</td>\n",
       "      <td>04 12, 2013</td>\n",
       "      <td>40 year old revenge</td>\n",
       "    </tr>\n",
       "    <tr>\n",
       "      <th>8</th>\n",
       "      <td>[0, 0]</td>\n",
       "      <td>5</td>\n",
       "      <td>\"If you are pregnant don't read this.\"I adored...</td>\n",
       "      <td>03 6, 2014</td>\n",
       "      <td>This book should come with a warning:</td>\n",
       "    </tr>\n",
       "    <tr>\n",
       "      <th>9</th>\n",
       "      <td>[0, 0]</td>\n",
       "      <td>2</td>\n",
       "      <td>I didn't like Kurt. I also had a bit of an iss...</td>\n",
       "      <td>10 26, 2013</td>\n",
       "      <td>Great idea but...</td>\n",
       "    </tr>\n",
       "  </tbody>\n",
       "</table>\n",
       "</div>"
      ],
      "text/plain": [
       "  helpful  rating                                         reviewText  \\\n",
       "0  [0, 0]       5  Great story line. Slow going at first but not ...   \n",
       "1  [0, 0]       2  To rushed. The story skips ahead to fast. Thin...   \n",
       "2  [1, 1]       5  Not a lot of history before the two meet, but ...   \n",
       "3  [0, 0]       5  This was great, fun to read.  Just the  right ...   \n",
       "4  [2, 2]       3  I gave the book 3 stars simply because the wri...   \n",
       "5  [0, 0]       3  This was a book of short interviews from peopl...   \n",
       "6  [1, 1]       5  This is a very good  sexy story about two cous...   \n",
       "7  [1, 2]       4  Fourty years after a lie was told by 6 cheerle...   \n",
       "8  [0, 0]       5  \"If you are pregnant don't read this.\"I adored...   \n",
       "9  [0, 0]       2  I didn't like Kurt. I also had a bit of an iss...   \n",
       "\n",
       "    reviewTime                                          summary  \n",
       "0   09 2, 2013           slow going....but keeps you interested  \n",
       "1  07 11, 2014                                           Rushed  \n",
       "2  04 20, 2014                                  short and sweet  \n",
       "3   04 8, 2013                                Great short story  \n",
       "4  04 10, 2012                  Easy Read and Intriguing Enough  \n",
       "5   07 6, 2014  History of the slaves and Civil War in Arkansas  \n",
       "6  05 23, 2012                           The Heat Of the Knight  \n",
       "7  04 12, 2013                              40 year old revenge  \n",
       "8   03 6, 2014            This book should come with a warning:  \n",
       "9  10 26, 2013                                Great idea but...  "
      ]
     },
     "execution_count": 10,
     "metadata": {},
     "output_type": "execute_result"
    }
   ],
   "source": [
    "df.head(10)"
   ]
  },
  {
   "cell_type": "code",
   "execution_count": 11,
   "id": "1c8e3ff4-b8b2-4ead-83d3-1b9e0532f47c",
   "metadata": {},
   "outputs": [
    {
     "name": "stdout",
     "output_type": "stream",
     "text": [
      "<class 'pandas.core.frame.DataFrame'>\n",
      "RangeIndex: 9600 entries, 0 to 9599\n",
      "Data columns (total 5 columns):\n",
      " #   Column      Non-Null Count  Dtype \n",
      "---  ------      --------------  ----- \n",
      " 0   helpful     9600 non-null   object\n",
      " 1   rating      9600 non-null   int64 \n",
      " 2   reviewText  9600 non-null   object\n",
      " 3   reviewTime  9600 non-null   object\n",
      " 4   summary     9600 non-null   object\n",
      "dtypes: int64(1), object(4)\n",
      "memory usage: 375.1+ KB\n"
     ]
    }
   ],
   "source": [
    "df.info()"
   ]
  },
  {
   "cell_type": "code",
   "execution_count": 12,
   "id": "9671368f-0e1c-4301-8a61-b479f5b78e58",
   "metadata": {},
   "outputs": [
    {
     "data": {
      "text/plain": [
       "helpful       0\n",
       "rating        0\n",
       "reviewText    0\n",
       "reviewTime    0\n",
       "summary       0\n",
       "dtype: int64"
      ]
     },
     "execution_count": 12,
     "metadata": {},
     "output_type": "execute_result"
    }
   ],
   "source": [
    "df.isna().sum()"
   ]
  },
  {
   "cell_type": "code",
   "execution_count": 13,
   "id": "143244dc-de8d-48c7-9f26-e493d9ede875",
   "metadata": {},
   "outputs": [],
   "source": [
    "df[\"helpful_votes\"] = df[\"helpful\"].apply(lambda x: eval(x)[0])  \n",
    "df[\"total_votes\"] = df[\"helpful\"].apply(lambda x: eval(x)[1])  \n",
    "df[\"helpful_ratio\"] = df[\"helpful_votes\"] / (df[\"total_votes\"] + 1e-5)  \n"
   ]
  },
  {
   "cell_type": "code",
   "execution_count": 14,
   "id": "1868c865-5c87-4fe2-8f06-e8231e581fda",
   "metadata": {},
   "outputs": [
    {
     "data": {
      "text/html": [
       "<div>\n",
       "<style scoped>\n",
       "    .dataframe tbody tr th:only-of-type {\n",
       "        vertical-align: middle;\n",
       "    }\n",
       "\n",
       "    .dataframe tbody tr th {\n",
       "        vertical-align: top;\n",
       "    }\n",
       "\n",
       "    .dataframe thead th {\n",
       "        text-align: right;\n",
       "    }\n",
       "</style>\n",
       "<table border=\"1\" class=\"dataframe\">\n",
       "  <thead>\n",
       "    <tr style=\"text-align: right;\">\n",
       "      <th></th>\n",
       "      <th>helpful</th>\n",
       "      <th>rating</th>\n",
       "      <th>reviewText</th>\n",
       "      <th>reviewTime</th>\n",
       "      <th>summary</th>\n",
       "      <th>helpful_votes</th>\n",
       "      <th>total_votes</th>\n",
       "      <th>helpful_ratio</th>\n",
       "    </tr>\n",
       "  </thead>\n",
       "  <tbody>\n",
       "    <tr>\n",
       "      <th>0</th>\n",
       "      <td>[0, 0]</td>\n",
       "      <td>5</td>\n",
       "      <td>Great story line. Slow going at first but not ...</td>\n",
       "      <td>09 2, 2013</td>\n",
       "      <td>slow going....but keeps you interested</td>\n",
       "      <td>0</td>\n",
       "      <td>0</td>\n",
       "      <td>0.000000</td>\n",
       "    </tr>\n",
       "    <tr>\n",
       "      <th>1</th>\n",
       "      <td>[0, 0]</td>\n",
       "      <td>2</td>\n",
       "      <td>To rushed. The story skips ahead to fast. Thin...</td>\n",
       "      <td>07 11, 2014</td>\n",
       "      <td>Rushed</td>\n",
       "      <td>0</td>\n",
       "      <td>0</td>\n",
       "      <td>0.000000</td>\n",
       "    </tr>\n",
       "    <tr>\n",
       "      <th>2</th>\n",
       "      <td>[1, 1]</td>\n",
       "      <td>5</td>\n",
       "      <td>Not a lot of history before the two meet, but ...</td>\n",
       "      <td>04 20, 2014</td>\n",
       "      <td>short and sweet</td>\n",
       "      <td>1</td>\n",
       "      <td>1</td>\n",
       "      <td>0.999990</td>\n",
       "    </tr>\n",
       "    <tr>\n",
       "      <th>3</th>\n",
       "      <td>[0, 0]</td>\n",
       "      <td>5</td>\n",
       "      <td>This was great, fun to read.  Just the  right ...</td>\n",
       "      <td>04 8, 2013</td>\n",
       "      <td>Great short story</td>\n",
       "      <td>0</td>\n",
       "      <td>0</td>\n",
       "      <td>0.000000</td>\n",
       "    </tr>\n",
       "    <tr>\n",
       "      <th>4</th>\n",
       "      <td>[2, 2]</td>\n",
       "      <td>3</td>\n",
       "      <td>I gave the book 3 stars simply because the wri...</td>\n",
       "      <td>04 10, 2012</td>\n",
       "      <td>Easy Read and Intriguing Enough</td>\n",
       "      <td>2</td>\n",
       "      <td>2</td>\n",
       "      <td>0.999995</td>\n",
       "    </tr>\n",
       "  </tbody>\n",
       "</table>\n",
       "</div>"
      ],
      "text/plain": [
       "  helpful  rating                                         reviewText  \\\n",
       "0  [0, 0]       5  Great story line. Slow going at first but not ...   \n",
       "1  [0, 0]       2  To rushed. The story skips ahead to fast. Thin...   \n",
       "2  [1, 1]       5  Not a lot of history before the two meet, but ...   \n",
       "3  [0, 0]       5  This was great, fun to read.  Just the  right ...   \n",
       "4  [2, 2]       3  I gave the book 3 stars simply because the wri...   \n",
       "\n",
       "    reviewTime                                 summary  helpful_votes  \\\n",
       "0   09 2, 2013  slow going....but keeps you interested              0   \n",
       "1  07 11, 2014                                  Rushed              0   \n",
       "2  04 20, 2014                         short and sweet              1   \n",
       "3   04 8, 2013                       Great short story              0   \n",
       "4  04 10, 2012         Easy Read and Intriguing Enough              2   \n",
       "\n",
       "   total_votes  helpful_ratio  \n",
       "0            0       0.000000  \n",
       "1            0       0.000000  \n",
       "2            1       0.999990  \n",
       "3            0       0.000000  \n",
       "4            2       0.999995  "
      ]
     },
     "execution_count": 14,
     "metadata": {},
     "output_type": "execute_result"
    }
   ],
   "source": [
    "df.head()"
   ]
  },
  {
   "cell_type": "code",
   "execution_count": 15,
   "id": "4d46677c-be37-4e9e-bfcd-4c876f71e97f",
   "metadata": {},
   "outputs": [],
   "source": [
    "df.drop(columns=[\"helpful\",\"helpful_votes\",\"total_votes\"], inplace=True)"
   ]
  },
  {
   "cell_type": "code",
   "execution_count": 16,
   "id": "c04c4e4c-70b0-4dfc-ad14-171571afb414",
   "metadata": {},
   "outputs": [
    {
     "data": {
      "text/html": [
       "<div>\n",
       "<style scoped>\n",
       "    .dataframe tbody tr th:only-of-type {\n",
       "        vertical-align: middle;\n",
       "    }\n",
       "\n",
       "    .dataframe tbody tr th {\n",
       "        vertical-align: top;\n",
       "    }\n",
       "\n",
       "    .dataframe thead th {\n",
       "        text-align: right;\n",
       "    }\n",
       "</style>\n",
       "<table border=\"1\" class=\"dataframe\">\n",
       "  <thead>\n",
       "    <tr style=\"text-align: right;\">\n",
       "      <th></th>\n",
       "      <th>rating</th>\n",
       "      <th>reviewText</th>\n",
       "      <th>reviewTime</th>\n",
       "      <th>summary</th>\n",
       "      <th>helpful_ratio</th>\n",
       "    </tr>\n",
       "  </thead>\n",
       "  <tbody>\n",
       "    <tr>\n",
       "      <th>0</th>\n",
       "      <td>5</td>\n",
       "      <td>Great story line. Slow going at first but not ...</td>\n",
       "      <td>09 2, 2013</td>\n",
       "      <td>slow going....but keeps you interested</td>\n",
       "      <td>0.000000</td>\n",
       "    </tr>\n",
       "    <tr>\n",
       "      <th>1</th>\n",
       "      <td>2</td>\n",
       "      <td>To rushed. The story skips ahead to fast. Thin...</td>\n",
       "      <td>07 11, 2014</td>\n",
       "      <td>Rushed</td>\n",
       "      <td>0.000000</td>\n",
       "    </tr>\n",
       "    <tr>\n",
       "      <th>2</th>\n",
       "      <td>5</td>\n",
       "      <td>Not a lot of history before the two meet, but ...</td>\n",
       "      <td>04 20, 2014</td>\n",
       "      <td>short and sweet</td>\n",
       "      <td>0.999990</td>\n",
       "    </tr>\n",
       "    <tr>\n",
       "      <th>3</th>\n",
       "      <td>5</td>\n",
       "      <td>This was great, fun to read.  Just the  right ...</td>\n",
       "      <td>04 8, 2013</td>\n",
       "      <td>Great short story</td>\n",
       "      <td>0.000000</td>\n",
       "    </tr>\n",
       "    <tr>\n",
       "      <th>4</th>\n",
       "      <td>3</td>\n",
       "      <td>I gave the book 3 stars simply because the wri...</td>\n",
       "      <td>04 10, 2012</td>\n",
       "      <td>Easy Read and Intriguing Enough</td>\n",
       "      <td>0.999995</td>\n",
       "    </tr>\n",
       "  </tbody>\n",
       "</table>\n",
       "</div>"
      ],
      "text/plain": [
       "   rating                                         reviewText   reviewTime  \\\n",
       "0       5  Great story line. Slow going at first but not ...   09 2, 2013   \n",
       "1       2  To rushed. The story skips ahead to fast. Thin...  07 11, 2014   \n",
       "2       5  Not a lot of history before the two meet, but ...  04 20, 2014   \n",
       "3       5  This was great, fun to read.  Just the  right ...   04 8, 2013   \n",
       "4       3  I gave the book 3 stars simply because the wri...  04 10, 2012   \n",
       "\n",
       "                                  summary  helpful_ratio  \n",
       "0  slow going....but keeps you interested       0.000000  \n",
       "1                                  Rushed       0.000000  \n",
       "2                         short and sweet       0.999990  \n",
       "3                       Great short story       0.000000  \n",
       "4         Easy Read and Intriguing Enough       0.999995  "
      ]
     },
     "execution_count": 16,
     "metadata": {},
     "output_type": "execute_result"
    }
   ],
   "source": [
    "df.head()"
   ]
  },
  {
   "cell_type": "code",
   "execution_count": 17,
   "id": "5e8a3d55-6149-4634-bf58-584328d80f3b",
   "metadata": {},
   "outputs": [
    {
     "data": {
      "text/html": [
       "<div>\n",
       "<style scoped>\n",
       "    .dataframe tbody tr th:only-of-type {\n",
       "        vertical-align: middle;\n",
       "    }\n",
       "\n",
       "    .dataframe tbody tr th {\n",
       "        vertical-align: top;\n",
       "    }\n",
       "\n",
       "    .dataframe thead th {\n",
       "        text-align: right;\n",
       "    }\n",
       "</style>\n",
       "<table border=\"1\" class=\"dataframe\">\n",
       "  <thead>\n",
       "    <tr style=\"text-align: right;\">\n",
       "      <th></th>\n",
       "      <th>count</th>\n",
       "      <th>mean</th>\n",
       "      <th>std</th>\n",
       "      <th>min</th>\n",
       "      <th>25%</th>\n",
       "      <th>50%</th>\n",
       "      <th>75%</th>\n",
       "      <th>max</th>\n",
       "    </tr>\n",
       "  </thead>\n",
       "  <tbody>\n",
       "    <tr>\n",
       "      <th>rating</th>\n",
       "      <td>9600.0</td>\n",
       "      <td>3.237188</td>\n",
       "      <td>1.423499</td>\n",
       "      <td>1.0</td>\n",
       "      <td>2.0</td>\n",
       "      <td>3.0</td>\n",
       "      <td>4.000000</td>\n",
       "      <td>5.0</td>\n",
       "    </tr>\n",
       "    <tr>\n",
       "      <th>helpful_ratio</th>\n",
       "      <td>9600.0</td>\n",
       "      <td>0.356872</td>\n",
       "      <td>0.431352</td>\n",
       "      <td>0.0</td>\n",
       "      <td>0.0</td>\n",
       "      <td>0.0</td>\n",
       "      <td>0.857142</td>\n",
       "      <td>1.0</td>\n",
       "    </tr>\n",
       "  </tbody>\n",
       "</table>\n",
       "</div>"
      ],
      "text/plain": [
       "                count      mean       std  min  25%  50%       75%  max\n",
       "rating         9600.0  3.237188  1.423499  1.0  2.0  3.0  4.000000  5.0\n",
       "helpful_ratio  9600.0  0.356872  0.431352  0.0  0.0  0.0  0.857142  1.0"
      ]
     },
     "execution_count": 17,
     "metadata": {},
     "output_type": "execute_result"
    }
   ],
   "source": [
    "df.describe().T"
   ]
  },
  {
   "cell_type": "code",
   "execution_count": 18,
   "id": "97348eb4-a461-477c-b0a8-4729f601bb77",
   "metadata": {},
   "outputs": [],
   "source": [
    "import seaborn as sns\n",
    "import matplotlib.pyplot as plt"
   ]
  },
  {
   "cell_type": "code",
   "execution_count": 19,
   "id": "6038881b-9524-405c-b68c-63f6b307b2e6",
   "metadata": {},
   "outputs": [
    {
     "data": {
      "image/png": "[encoded data removed]",
      "text/plain": [
       "<Figure size 640x480 with 1 Axes>"
      ]
     },
     "metadata": {},
     "output_type": "display_data"
    }
   ],
   "source": [
    "sns.histplot(df[\"rating\"], bins=5, kde=True)\n",
    "plt.title(\"Rating Dağılımı\")\n",
    "plt.show()"
   ]
  },
  {
   "cell_type": "code",
   "execution_count": 20,
   "id": "bc613ff5-a03f-4494-a765-f3cc9cc046e1",
   "metadata": {},
   "outputs": [
    {
     "name": "stdout",
     "output_type": "stream",
     "text": [
      "                 rating  helpful_ratio\n",
      "rating         1.000000      -0.051949\n",
      "helpful_ratio -0.051949       1.000000\n"
     ]
    }
   ],
   "source": [
    "numeric_cols = [\"rating\", \"helpful_ratio\"]\n",
    "\n",
    "correlation_matrix = df[numeric_cols].corr()\n",
    "\n",
    "print(correlation_matrix)"
   ]
  },
  {
   "cell_type": "code",
   "execution_count": 21,
   "id": "85ef5a6b-e933-445a-be48-bb4b5f16cddd",
   "metadata": {},
   "outputs": [
    {
     "data": {
      "image/png": "[encoded data removed]",
      "text/plain": [
       "<Figure size 600x400 with 2 Axes>"
      ]
     },
     "metadata": {},
     "output_type": "display_data"
    }
   ],
   "source": [
    "plt.figure(figsize=(6,4))\n",
    "sns.heatmap(correlation_matrix, annot=True, cmap=\"coolwarm\", fmt=\".2f\", linewidths=0.5)\n",
    "plt.title(\"Korelasyon Matrisi\")\n",
    "plt.show()"
   ]
  },
  {
   "cell_type": "code",
   "execution_count": 22,
   "id": "97464b54-6ad3-4b95-a766-a6192bdf3205",
   "metadata": {},
   "outputs": [
    {
     "data": {
      "image/png": "[encoded data removed]",
      "text/plain": [
       "<Figure size 640x480 with 1 Axes>"
      ]
     },
     "metadata": {},
     "output_type": "display_data"
    }
   ],
   "source": [
    "df[\"review_length\"] = df[\"reviewText\"].astype(str).apply(len)\n",
    "\n",
    "sns.histplot(df[\"review_length\"], bins=50, kde=True)\n",
    "plt.title(\"Yorum Uzunluğu Dağılımı\")\n",
    "plt.xlabel(\"Karakter Sayısı\")\n",
    "plt.show()"
   ]
  },
  {
   "cell_type": "code",
   "execution_count": 23,
   "id": "51d2434c-3f71-4798-8301-4ccb4abd796a",
   "metadata": {},
   "outputs": [
    {
     "data": {
      "image/png": "[encoded data removed]",
      "text/plain": [
       "<Figure size 1000x500 with 1 Axes>"
      ]
     },
     "metadata": {},
     "output_type": "display_data"
    }
   ],
   "source": [
    "plt.figure(figsize=(10, 5))\n",
    "sns.boxplot(x=df[\"review_length\"]) \n",
    "plt.title(\"Yorum Uzunluğu Dağılımı\")\n",
    "plt.xlabel(\"Yorum uzunluğu\")\n",
    "plt.show()\n"
   ]
  },
  {
   "cell_type": "code",
   "execution_count": 24,
   "id": "8029d3d4-e852-43e3-8e17-bad61483833e",
   "metadata": {},
   "outputs": [
    {
     "name": "stdout",
     "output_type": "stream",
     "text": [
      "                 rating  helpful_ratio\n",
      "rating         1.000000      -0.051949\n",
      "helpful_ratio -0.051949       1.000000\n"
     ]
    }
   ],
   "source": [
    "numeric_cols = [\"rating\", \"review_length\"]\n",
    "\n",
    "correlation_matrix2 = df[numeric_cols].corr()\n",
    "\n",
    "print(correlation_matrix)"
   ]
  },
  {
   "cell_type": "code",
   "execution_count": 25,
   "id": "041c0adf-98d2-42b1-93c3-dc0dd1b5657b",
   "metadata": {},
   "outputs": [
    {
     "data": {
      "image/png": "[encoded data removed]",
      "text/plain": [
       "<Figure size 600x400 with 2 Axes>"
      ]
     },
     "metadata": {},
     "output_type": "display_data"
    }
   ],
   "source": [
    "plt.figure(figsize=(6,4))\n",
    "sns.heatmap(correlation_matrix2, annot=True, cmap=\"coolwarm\", fmt=\".2f\", linewidths=0.5)\n",
    "plt.title(\"Korelasyon Matrisi\")\n",
    "plt.show()"
   ]
  },
  {
   "cell_type": "code",
   "execution_count": null,
   "id": "a0bf410d-6570-416d-99ed-934cd8e5b068",
   "metadata": {},
   "outputs": [],
   "source": [
    "df_clean = df[(df[\"review_length\"] >= 20) & (df[\"review_length\"] <= 2000)]\n"
   ]
  },
  {
   "cell_type": "code",
   "execution_count": 26,
   "id": "50db1bfa-a839-4c83-8c48-8e38de8c761f",
   "metadata": {},
   "outputs": [
    {
     "data": {
      "text/plain": [
       "rating           504\n",
       "reviewText       504\n",
       "reviewTime       504\n",
       "summary          504\n",
       "helpful_ratio    504\n",
       "review_length    504\n",
       "dtype: int64"
      ]
     },
     "execution_count": 26,
     "metadata": {},
     "output_type": "execute_result"
    }
   ],
   "source": [
    "df[df[\"review_length\"] >= 2000].count()"
   ]
  },
  {
   "cell_type": "code",
   "execution_count": 27,
   "id": "a8fd001d-21f9-477f-a992-a5611e475efd",
   "metadata": {},
   "outputs": [],
   "source": [
    "df_clean=df[df[\"review_length\"] <= 2000]"
   ]
  },
  {
   "cell_type": "code",
   "execution_count": 28,
   "id": "c8fa9c18-5309-4179-9a74-425c36afd64f",
   "metadata": {},
   "outputs": [
    {
     "name": "stdout",
     "output_type": "stream",
     "text": [
      "<class 'pandas.core.frame.DataFrame'>\n",
      "Index: 9096 entries, 0 to 9599\n",
      "Data columns (total 6 columns):\n",
      " #   Column         Non-Null Count  Dtype  \n",
      "---  ------         --------------  -----  \n",
      " 0   rating         9096 non-null   int64  \n",
      " 1   reviewText     9096 non-null   object \n",
      " 2   reviewTime     9096 non-null   object \n",
      " 3   summary        9096 non-null   object \n",
      " 4   helpful_ratio  9096 non-null   float64\n",
      " 5   review_length  9096 non-null   int64  \n",
      "dtypes: float64(1), int64(2), object(3)\n",
      "memory usage: 497.4+ KB\n"
     ]
    }
   ],
   "source": [
    "df_clean.info()"
   ]
  },
  {
   "cell_type": "code",
   "execution_count": 29,
   "id": "7e161d37-c581-43bd-9e2b-14cad4e3f05f",
   "metadata": {},
   "outputs": [],
   "source": [
    "import re\n",
    "import nltk\n",
    "from nltk.corpus import stopwords\n",
    "from nltk.tokenize import word_tokenize\n",
    "from nltk.stem import WordNetLemmatizer"
   ]
  },
  {
   "cell_type": "code",
   "execution_count": 30,
   "id": "51dda1a3-674e-4dba-b787-1af7c2379d01",
   "metadata": {
    "scrolled": true
   },
   "outputs": [
    {
     "name": "stderr",
     "output_type": "stream",
     "text": [
      "[nltk_data] Downloading package stopwords to\n",
      "[nltk_data]     C:\\Users\\gizem\\AppData\\Roaming\\nltk_data...\n",
      "[nltk_data]   Package stopwords is already up-to-date!\n",
      "[nltk_data] Downloading package punkt_tab to\n",
      "[nltk_data]     C:\\Users\\gizem\\AppData\\Roaming\\nltk_data...\n",
      "[nltk_data]   Package punkt_tab is already up-to-date!\n",
      "[nltk_data] Downloading package wordnet to\n",
      "[nltk_data]     C:\\Users\\gizem\\AppData\\Roaming\\nltk_data...\n",
      "[nltk_data]   Package wordnet is already up-to-date!\n"
     ]
    },
    {
     "data": {
      "text/plain": [
       "True"
      ]
     },
     "execution_count": 30,
     "metadata": {},
     "output_type": "execute_result"
    }
   ],
   "source": [
    "nltk.download('stopwords')\n",
    "nltk.download('punkt_tab')\n",
    "nltk.download('wordnet')"
   ]
  },
  {
   "cell_type": "code",
   "execution_count": 31,
   "id": "07fe86a3-ca9c-47e7-8792-0579ec612730",
   "metadata": {},
   "outputs": [],
   "source": [
    "lemmatizer = WordNetLemmatizer()\n",
    "stop_words = set(stopwords.words('english'))"
   ]
  },
  {
   "cell_type": "code",
   "execution_count": 32,
   "id": "97dbdbb1-fd03-4246-a93c-7d32283b9838",
   "metadata": {},
   "outputs": [],
   "source": [
    "def clean_text(text):\n",
    "    text = text.lower()\n",
    "    text = re.sub(r'[^\\w\\s]', '', text)  \n",
    "    words = word_tokenize(text)  \n",
    "    words = [word for word in words if word not in stop_words]  \n",
    "    words = [lemmatizer.lemmatize(word) for word in words] \n",
    "    return \" \".join(words) "
   ]
  },
  {
   "cell_type": "code",
   "execution_count": 33,
   "id": "ca43dae6-b22f-46c5-87fb-56b6b474ebe7",
   "metadata": {},
   "outputs": [
    {
     "name": "stderr",
     "output_type": "stream",
     "text": [
      "C:\\Users\\gizem\\AppData\\Local\\Temp\\ipykernel_16668\\2355597450.py:1: SettingWithCopyWarning: \n",
      "A value is trying to be set on a copy of a slice from a DataFrame.\n",
      "Try using .loc[row_indexer,col_indexer] = value instead\n",
      "\n",
      "See the caveats in the documentation: https://pandas.pydata.org/pandas-docs/stable/user_guide/indexing.html#returning-a-view-versus-a-copy\n",
      "  df_clean[\"reviewText\"] = df_clean[\"reviewText\"].apply(clean_text)\n"
     ]
    }
   ],
   "source": [
    "df_clean[\"reviewText\"] = df_clean[\"reviewText\"].apply(clean_text)\n"
   ]
  },
  {
   "cell_type": "code",
   "execution_count": 34,
   "id": "d3cfcf26-3565-48fb-8733-044fc293e45d",
   "metadata": {},
   "outputs": [
    {
     "data": {
      "text/html": [
       "<div>\n",
       "<style scoped>\n",
       "    .dataframe tbody tr th:only-of-type {\n",
       "        vertical-align: middle;\n",
       "    }\n",
       "\n",
       "    .dataframe tbody tr th {\n",
       "        vertical-align: top;\n",
       "    }\n",
       "\n",
       "    .dataframe thead th {\n",
       "        text-align: right;\n",
       "    }\n",
       "</style>\n",
       "<table border=\"1\" class=\"dataframe\">\n",
       "  <thead>\n",
       "    <tr style=\"text-align: right;\">\n",
       "      <th></th>\n",
       "      <th>rating</th>\n",
       "      <th>reviewText</th>\n",
       "      <th>reviewTime</th>\n",
       "      <th>summary</th>\n",
       "      <th>helpful_ratio</th>\n",
       "      <th>review_length</th>\n",
       "    </tr>\n",
       "  </thead>\n",
       "  <tbody>\n",
       "    <tr>\n",
       "      <th>0</th>\n",
       "      <td>5</td>\n",
       "      <td>great story line slow going first bad kept int...</td>\n",
       "      <td>09 2, 2013</td>\n",
       "      <td>slow going....but keeps you interested</td>\n",
       "      <td>0.000000</td>\n",
       "      <td>142</td>\n",
       "    </tr>\n",
       "    <tr>\n",
       "      <th>1</th>\n",
       "      <td>2</td>\n",
       "      <td>rushed story skip ahead fast thing explained p...</td>\n",
       "      <td>07 11, 2014</td>\n",
       "      <td>Rushed</td>\n",
       "      <td>0.000000</td>\n",
       "      <td>181</td>\n",
       "    </tr>\n",
       "    <tr>\n",
       "      <th>2</th>\n",
       "      <td>5</td>\n",
       "      <td>lot history two meet get hot hurry good book</td>\n",
       "      <td>04 20, 2014</td>\n",
       "      <td>short and sweet</td>\n",
       "      <td>0.999990</td>\n",
       "      <td>93</td>\n",
       "    </tr>\n",
       "    <tr>\n",
       "      <th>3</th>\n",
       "      <td>5</td>\n",
       "      <td>great fun read right length relaxing getting i...</td>\n",
       "      <td>04 8, 2013</td>\n",
       "      <td>Great short story</td>\n",
       "      <td>0.000000</td>\n",
       "      <td>114</td>\n",
       "    </tr>\n",
       "    <tr>\n",
       "      <th>4</th>\n",
       "      <td>3</td>\n",
       "      <td>gave book 3 star simply writing little awkward...</td>\n",
       "      <td>04 10, 2012</td>\n",
       "      <td>Easy Read and Intriguing Enough</td>\n",
       "      <td>0.999995</td>\n",
       "      <td>609</td>\n",
       "    </tr>\n",
       "  </tbody>\n",
       "</table>\n",
       "</div>"
      ],
      "text/plain": [
       "   rating                                         reviewText   reviewTime  \\\n",
       "0       5  great story line slow going first bad kept int...   09 2, 2013   \n",
       "1       2  rushed story skip ahead fast thing explained p...  07 11, 2014   \n",
       "2       5       lot history two meet get hot hurry good book  04 20, 2014   \n",
       "3       5  great fun read right length relaxing getting i...   04 8, 2013   \n",
       "4       3  gave book 3 star simply writing little awkward...  04 10, 2012   \n",
       "\n",
       "                                  summary  helpful_ratio  review_length  \n",
       "0  slow going....but keeps you interested       0.000000            142  \n",
       "1                                  Rushed       0.000000            181  \n",
       "2                         short and sweet       0.999990             93  \n",
       "3                       Great short story       0.000000            114  \n",
       "4         Easy Read and Intriguing Enough       0.999995            609  "
      ]
     },
     "execution_count": 34,
     "metadata": {},
     "output_type": "execute_result"
    }
   ],
   "source": [
    "df_clean.head(5)"
   ]
  },
  {
   "cell_type": "code",
   "execution_count": 35,
   "id": "93aa194d-eefd-4cd8-a428-27660476da0a",
   "metadata": {},
   "outputs": [
    {
     "name": "stderr",
     "output_type": "stream",
     "text": [
      "C:\\Users\\gizem\\AppData\\Local\\Temp\\ipykernel_16668\\3667503232.py:1: SettingWithCopyWarning: \n",
      "A value is trying to be set on a copy of a slice from a DataFrame.\n",
      "Try using .loc[row_indexer,col_indexer] = value instead\n",
      "\n",
      "See the caveats in the documentation: https://pandas.pydata.org/pandas-docs/stable/user_guide/indexing.html#returning-a-view-versus-a-copy\n",
      "  df_clean[\"reviewTime\"] = df_clean[\"reviewTime\"].apply(clean_text)\n"
     ]
    }
   ],
   "source": [
    "df_clean[\"reviewTime\"] = df_clean[\"reviewTime\"].apply(clean_text)\n"
   ]
  },
  {
   "cell_type": "code",
   "execution_count": 36,
   "id": "50a43c14-5bbf-4d13-8208-29b7f9bac9e7",
   "metadata": {},
   "outputs": [
    {
     "data": {
      "text/html": [
       "<div>\n",
       "<style scoped>\n",
       "    .dataframe tbody tr th:only-of-type {\n",
       "        vertical-align: middle;\n",
       "    }\n",
       "\n",
       "    .dataframe tbody tr th {\n",
       "        vertical-align: top;\n",
       "    }\n",
       "\n",
       "    .dataframe thead th {\n",
       "        text-align: right;\n",
       "    }\n",
       "</style>\n",
       "<table border=\"1\" class=\"dataframe\">\n",
       "  <thead>\n",
       "    <tr style=\"text-align: right;\">\n",
       "      <th></th>\n",
       "      <th>rating</th>\n",
       "      <th>reviewText</th>\n",
       "      <th>reviewTime</th>\n",
       "      <th>summary</th>\n",
       "      <th>helpful_ratio</th>\n",
       "      <th>review_length</th>\n",
       "    </tr>\n",
       "  </thead>\n",
       "  <tbody>\n",
       "    <tr>\n",
       "      <th>0</th>\n",
       "      <td>5</td>\n",
       "      <td>great story line slow going first bad kept int...</td>\n",
       "      <td>09 2 2013</td>\n",
       "      <td>slow going....but keeps you interested</td>\n",
       "      <td>0.000000</td>\n",
       "      <td>142</td>\n",
       "    </tr>\n",
       "    <tr>\n",
       "      <th>1</th>\n",
       "      <td>2</td>\n",
       "      <td>rushed story skip ahead fast thing explained p...</td>\n",
       "      <td>07 11 2014</td>\n",
       "      <td>Rushed</td>\n",
       "      <td>0.000000</td>\n",
       "      <td>181</td>\n",
       "    </tr>\n",
       "    <tr>\n",
       "      <th>2</th>\n",
       "      <td>5</td>\n",
       "      <td>lot history two meet get hot hurry good book</td>\n",
       "      <td>04 20 2014</td>\n",
       "      <td>short and sweet</td>\n",
       "      <td>0.999990</td>\n",
       "      <td>93</td>\n",
       "    </tr>\n",
       "    <tr>\n",
       "      <th>3</th>\n",
       "      <td>5</td>\n",
       "      <td>great fun read right length relaxing getting i...</td>\n",
       "      <td>04 8 2013</td>\n",
       "      <td>Great short story</td>\n",
       "      <td>0.000000</td>\n",
       "      <td>114</td>\n",
       "    </tr>\n",
       "    <tr>\n",
       "      <th>4</th>\n",
       "      <td>3</td>\n",
       "      <td>gave book 3 star simply writing little awkward...</td>\n",
       "      <td>04 10 2012</td>\n",
       "      <td>Easy Read and Intriguing Enough</td>\n",
       "      <td>0.999995</td>\n",
       "      <td>609</td>\n",
       "    </tr>\n",
       "  </tbody>\n",
       "</table>\n",
       "</div>"
      ],
      "text/plain": [
       "   rating                                         reviewText  reviewTime  \\\n",
       "0       5  great story line slow going first bad kept int...   09 2 2013   \n",
       "1       2  rushed story skip ahead fast thing explained p...  07 11 2014   \n",
       "2       5       lot history two meet get hot hurry good book  04 20 2014   \n",
       "3       5  great fun read right length relaxing getting i...   04 8 2013   \n",
       "4       3  gave book 3 star simply writing little awkward...  04 10 2012   \n",
       "\n",
       "                                  summary  helpful_ratio  review_length  \n",
       "0  slow going....but keeps you interested       0.000000            142  \n",
       "1                                  Rushed       0.000000            181  \n",
       "2                         short and sweet       0.999990             93  \n",
       "3                       Great short story       0.000000            114  \n",
       "4         Easy Read and Intriguing Enough       0.999995            609  "
      ]
     },
     "execution_count": 36,
     "metadata": {},
     "output_type": "execute_result"
    }
   ],
   "source": [
    "df_clean.head()"
   ]
  },
  {
   "cell_type": "code",
   "execution_count": 37,
   "id": "6be1a74c-fc57-40dd-9e35-fa51d74c5e4d",
   "metadata": {},
   "outputs": [
    {
     "name": "stderr",
     "output_type": "stream",
     "text": [
      "C:\\Users\\gizem\\AppData\\Local\\Temp\\ipykernel_16668\\3978136587.py:1: SettingWithCopyWarning: \n",
      "A value is trying to be set on a copy of a slice from a DataFrame.\n",
      "Try using .loc[row_indexer,col_indexer] = value instead\n",
      "\n",
      "See the caveats in the documentation: https://pandas.pydata.org/pandas-docs/stable/user_guide/indexing.html#returning-a-view-versus-a-copy\n",
      "  df_clean[\"summary\"] = df_clean[\"summary\"].apply(clean_text)\n"
     ]
    }
   ],
   "source": [
    "df_clean[\"summary\"] = df_clean[\"summary\"].apply(clean_text)\n"
   ]
  },
  {
   "cell_type": "code",
   "execution_count": 38,
   "id": "fe9f9c22-33a1-4adc-92d9-c32a1e81ff7e",
   "metadata": {
    "scrolled": true
   },
   "outputs": [
    {
     "data": {
      "text/html": [
       "<div>\n",
       "<style scoped>\n",
       "    .dataframe tbody tr th:only-of-type {\n",
       "        vertical-align: middle;\n",
       "    }\n",
       "\n",
       "    .dataframe tbody tr th {\n",
       "        vertical-align: top;\n",
       "    }\n",
       "\n",
       "    .dataframe thead th {\n",
       "        text-align: right;\n",
       "    }\n",
       "</style>\n",
       "<table border=\"1\" class=\"dataframe\">\n",
       "  <thead>\n",
       "    <tr style=\"text-align: right;\">\n",
       "      <th></th>\n",
       "      <th>rating</th>\n",
       "      <th>reviewText</th>\n",
       "      <th>reviewTime</th>\n",
       "      <th>summary</th>\n",
       "      <th>helpful_ratio</th>\n",
       "      <th>review_length</th>\n",
       "    </tr>\n",
       "  </thead>\n",
       "  <tbody>\n",
       "    <tr>\n",
       "      <th>0</th>\n",
       "      <td>5</td>\n",
       "      <td>great story line slow going first bad kept int...</td>\n",
       "      <td>09 2 2013</td>\n",
       "      <td>slow goingbut keep interested</td>\n",
       "      <td>0.000000</td>\n",
       "      <td>142</td>\n",
       "    </tr>\n",
       "    <tr>\n",
       "      <th>1</th>\n",
       "      <td>2</td>\n",
       "      <td>rushed story skip ahead fast thing explained p...</td>\n",
       "      <td>07 11 2014</td>\n",
       "      <td>rushed</td>\n",
       "      <td>0.000000</td>\n",
       "      <td>181</td>\n",
       "    </tr>\n",
       "    <tr>\n",
       "      <th>2</th>\n",
       "      <td>5</td>\n",
       "      <td>lot history two meet get hot hurry good book</td>\n",
       "      <td>04 20 2014</td>\n",
       "      <td>short sweet</td>\n",
       "      <td>0.999990</td>\n",
       "      <td>93</td>\n",
       "    </tr>\n",
       "    <tr>\n",
       "      <th>3</th>\n",
       "      <td>5</td>\n",
       "      <td>great fun read right length relaxing getting i...</td>\n",
       "      <td>04 8 2013</td>\n",
       "      <td>great short story</td>\n",
       "      <td>0.000000</td>\n",
       "      <td>114</td>\n",
       "    </tr>\n",
       "    <tr>\n",
       "      <th>4</th>\n",
       "      <td>3</td>\n",
       "      <td>gave book 3 star simply writing little awkward...</td>\n",
       "      <td>04 10 2012</td>\n",
       "      <td>easy read intriguing enough</td>\n",
       "      <td>0.999995</td>\n",
       "      <td>609</td>\n",
       "    </tr>\n",
       "  </tbody>\n",
       "</table>\n",
       "</div>"
      ],
      "text/plain": [
       "   rating                                         reviewText  reviewTime  \\\n",
       "0       5  great story line slow going first bad kept int...   09 2 2013   \n",
       "1       2  rushed story skip ahead fast thing explained p...  07 11 2014   \n",
       "2       5       lot history two meet get hot hurry good book  04 20 2014   \n",
       "3       5  great fun read right length relaxing getting i...   04 8 2013   \n",
       "4       3  gave book 3 star simply writing little awkward...  04 10 2012   \n",
       "\n",
       "                         summary  helpful_ratio  review_length  \n",
       "0  slow goingbut keep interested       0.000000            142  \n",
       "1                         rushed       0.000000            181  \n",
       "2                    short sweet       0.999990             93  \n",
       "3              great short story       0.000000            114  \n",
       "4    easy read intriguing enough       0.999995            609  "
      ]
     },
     "execution_count": 38,
     "metadata": {},
     "output_type": "execute_result"
    }
   ],
   "source": [
    "df_clean.head(5)"
   ]
  },
  {
   "cell_type": "code",
   "execution_count": 39,
   "id": "b0765a15-897d-47c0-85f1-bead82df5c74",
   "metadata": {},
   "outputs": [
    {
     "name": "stderr",
     "output_type": "stream",
     "text": [
      "C:\\Users\\gizem\\AppData\\Local\\Temp\\ipykernel_16668\\3436754522.py:1: SettingWithCopyWarning: \n",
      "A value is trying to be set on a copy of a slice from a DataFrame.\n",
      "Try using .loc[row_indexer,col_indexer] = value instead\n",
      "\n",
      "See the caveats in the documentation: https://pandas.pydata.org/pandas-docs/stable/user_guide/indexing.html#returning-a-view-versus-a-copy\n",
      "  df_clean['combined_text'] = df_clean['reviewText'] + ' ' + df_clean['summary']\n"
     ]
    }
   ],
   "source": [
    "df_clean['combined_text'] = df_clean['reviewText'] + ' ' + df_clean['summary']"
   ]
  },
  {
   "cell_type": "code",
   "execution_count": 40,
   "id": "e58cf01a-0300-497a-8f5f-59c9b24fa95e",
   "metadata": {},
   "outputs": [
    {
     "data": {
      "text/html": [
       "<div>\n",
       "<style scoped>\n",
       "    .dataframe tbody tr th:only-of-type {\n",
       "        vertical-align: middle;\n",
       "    }\n",
       "\n",
       "    .dataframe tbody tr th {\n",
       "        vertical-align: top;\n",
       "    }\n",
       "\n",
       "    .dataframe thead th {\n",
       "        text-align: right;\n",
       "    }\n",
       "</style>\n",
       "<table border=\"1\" class=\"dataframe\">\n",
       "  <thead>\n",
       "    <tr style=\"text-align: right;\">\n",
       "      <th></th>\n",
       "      <th>rating</th>\n",
       "      <th>reviewText</th>\n",
       "      <th>reviewTime</th>\n",
       "      <th>summary</th>\n",
       "      <th>helpful_ratio</th>\n",
       "      <th>review_length</th>\n",
       "      <th>combined_text</th>\n",
       "    </tr>\n",
       "  </thead>\n",
       "  <tbody>\n",
       "    <tr>\n",
       "      <th>0</th>\n",
       "      <td>5</td>\n",
       "      <td>great story line slow going first bad kept int...</td>\n",
       "      <td>09 2 2013</td>\n",
       "      <td>slow goingbut keep interested</td>\n",
       "      <td>0.000000</td>\n",
       "      <td>142</td>\n",
       "      <td>great story line slow going first bad kept int...</td>\n",
       "    </tr>\n",
       "    <tr>\n",
       "      <th>1</th>\n",
       "      <td>2</td>\n",
       "      <td>rushed story skip ahead fast thing explained p...</td>\n",
       "      <td>07 11 2014</td>\n",
       "      <td>rushed</td>\n",
       "      <td>0.000000</td>\n",
       "      <td>181</td>\n",
       "      <td>rushed story skip ahead fast thing explained p...</td>\n",
       "    </tr>\n",
       "    <tr>\n",
       "      <th>2</th>\n",
       "      <td>5</td>\n",
       "      <td>lot history two meet get hot hurry good book</td>\n",
       "      <td>04 20 2014</td>\n",
       "      <td>short sweet</td>\n",
       "      <td>0.999990</td>\n",
       "      <td>93</td>\n",
       "      <td>lot history two meet get hot hurry good book s...</td>\n",
       "    </tr>\n",
       "    <tr>\n",
       "      <th>3</th>\n",
       "      <td>5</td>\n",
       "      <td>great fun read right length relaxing getting i...</td>\n",
       "      <td>04 8 2013</td>\n",
       "      <td>great short story</td>\n",
       "      <td>0.000000</td>\n",
       "      <td>114</td>\n",
       "      <td>great fun read right length relaxing getting i...</td>\n",
       "    </tr>\n",
       "    <tr>\n",
       "      <th>4</th>\n",
       "      <td>3</td>\n",
       "      <td>gave book 3 star simply writing little awkward...</td>\n",
       "      <td>04 10 2012</td>\n",
       "      <td>easy read intriguing enough</td>\n",
       "      <td>0.999995</td>\n",
       "      <td>609</td>\n",
       "      <td>gave book 3 star simply writing little awkward...</td>\n",
       "    </tr>\n",
       "  </tbody>\n",
       "</table>\n",
       "</div>"
      ],
      "text/plain": [
       "   rating                                         reviewText  reviewTime  \\\n",
       "0       5  great story line slow going first bad kept int...   09 2 2013   \n",
       "1       2  rushed story skip ahead fast thing explained p...  07 11 2014   \n",
       "2       5       lot history two meet get hot hurry good book  04 20 2014   \n",
       "3       5  great fun read right length relaxing getting i...   04 8 2013   \n",
       "4       3  gave book 3 star simply writing little awkward...  04 10 2012   \n",
       "\n",
       "                         summary  helpful_ratio  review_length  \\\n",
       "0  slow goingbut keep interested       0.000000            142   \n",
       "1                         rushed       0.000000            181   \n",
       "2                    short sweet       0.999990             93   \n",
       "3              great short story       0.000000            114   \n",
       "4    easy read intriguing enough       0.999995            609   \n",
       "\n",
       "                                       combined_text  \n",
       "0  great story line slow going first bad kept int...  \n",
       "1  rushed story skip ahead fast thing explained p...  \n",
       "2  lot history two meet get hot hurry good book s...  \n",
       "3  great fun read right length relaxing getting i...  \n",
       "4  gave book 3 star simply writing little awkward...  "
      ]
     },
     "execution_count": 40,
     "metadata": {},
     "output_type": "execute_result"
    }
   ],
   "source": [
    "df_clean.head()"
   ]
  },
  {
   "cell_type": "code",
   "execution_count": 41,
   "id": "18479383-ad63-404e-97fe-f5d97e97f6ad",
   "metadata": {},
   "outputs": [],
   "source": [
    "df_lstm = df_clean[['combined_text', 'rating']]"
   ]
  },
  {
   "cell_type": "code",
   "execution_count": 42,
   "id": "73b8cda3-654a-4d7e-a929-d8be73e4f63c",
   "metadata": {},
   "outputs": [
    {
     "data": {
      "text/html": [
       "<div>\n",
       "<style scoped>\n",
       "    .dataframe tbody tr th:only-of-type {\n",
       "        vertical-align: middle;\n",
       "    }\n",
       "\n",
       "    .dataframe tbody tr th {\n",
       "        vertical-align: top;\n",
       "    }\n",
       "\n",
       "    .dataframe thead th {\n",
       "        text-align: right;\n",
       "    }\n",
       "</style>\n",
       "<table border=\"1\" class=\"dataframe\">\n",
       "  <thead>\n",
       "    <tr style=\"text-align: right;\">\n",
       "      <th></th>\n",
       "      <th>combined_text</th>\n",
       "      <th>rating</th>\n",
       "    </tr>\n",
       "  </thead>\n",
       "  <tbody>\n",
       "    <tr>\n",
       "      <th>0</th>\n",
       "      <td>great story line slow going first bad kept int...</td>\n",
       "      <td>5</td>\n",
       "    </tr>\n",
       "    <tr>\n",
       "      <th>1</th>\n",
       "      <td>rushed story skip ahead fast thing explained p...</td>\n",
       "      <td>2</td>\n",
       "    </tr>\n",
       "    <tr>\n",
       "      <th>2</th>\n",
       "      <td>lot history two meet get hot hurry good book s...</td>\n",
       "      <td>5</td>\n",
       "    </tr>\n",
       "    <tr>\n",
       "      <th>3</th>\n",
       "      <td>great fun read right length relaxing getting i...</td>\n",
       "      <td>5</td>\n",
       "    </tr>\n",
       "    <tr>\n",
       "      <th>4</th>\n",
       "      <td>gave book 3 star simply writing little awkward...</td>\n",
       "      <td>3</td>\n",
       "    </tr>\n",
       "  </tbody>\n",
       "</table>\n",
       "</div>"
      ],
      "text/plain": [
       "                                       combined_text  rating\n",
       "0  great story line slow going first bad kept int...       5\n",
       "1  rushed story skip ahead fast thing explained p...       2\n",
       "2  lot history two meet get hot hurry good book s...       5\n",
       "3  great fun read right length relaxing getting i...       5\n",
       "4  gave book 3 star simply writing little awkward...       3"
      ]
     },
     "execution_count": 42,
     "metadata": {},
     "output_type": "execute_result"
    }
   ],
   "source": [
    "df_lstm.head()"
   ]
  },
  {
   "cell_type": "code",
   "execution_count": 43,
   "id": "aaa5ccd7-8008-48ea-a42e-1509af6a1bae",
   "metadata": {},
   "outputs": [],
   "source": [
    "import pickle"
   ]
  },
  {
   "cell_type": "code",
   "execution_count": 44,
   "id": "1d83f7c5-51a1-42ad-8e02-a86c32a68f8b",
   "metadata": {},
   "outputs": [],
   "source": [
    "with open('cleaned_text.pkl', 'wb') as f:\n",
    "    pickle.dump(df_lstm, f)"
   ]
  },
  {
   "cell_type": "code",
   "execution_count": null,
   "id": "d41f187a-1d94-4065-b72a-4438f1d328ab",
   "metadata": {},
   "outputs": [],
   "source": []
  },
  {
   "cell_type": "code",
   "execution_count": null,
   "id": "ce94d91d-24c3-47e7-ad4f-72dbffc64556",
   "metadata": {},
   "outputs": [],
   "source": []
  },
  {
   "cell_type": "code",
   "execution_count": null,
   "id": "c645b598-c4cf-434d-b486-2295001faa1c",
   "metadata": {},
   "outputs": [],
   "source": []
  },
  {
   "cell_type": "code",
   "execution_count": null,
   "id": "e9ebed69-d814-4dfc-ba1f-c16dfc03eb5e",
   "metadata": {},
   "outputs": [],
   "source": []
  },
  {
   "cell_type": "code",
   "execution_count": null,
   "id": "116e5d42-dd1a-4516-8ed7-61638656e6d0",
   "metadata": {},
   "outputs": [],
   "source": []
  },
  {
   "cell_type": "code",
   "execution_count": null,
   "id": "537ca5bd-22a8-4e26-924a-d2262e88047f",
   "metadata": {},
   "outputs": [],
   "source": []
  }
 ],
 "metadata": {
  "kernelspec": {
   "display_name": "Python 3 (ipykernel)",
   "language": "python",
   "name": "python3"
  },
  "language_info": {
   "codemirror_mode": {
    "name": "ipython",
    "version": 3
   },
   "file_extension": ".py",
   "mimetype": "text/x-python",
   "name": "python",
   "nbconvert_exporter": "python",
   "pygments_lexer": "ipython3",
   "version": "3.10.0"
  }
 },
 "nbformat": 4,
 "nbformat_minor": 5
}
