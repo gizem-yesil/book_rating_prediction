{
 "cells": [
  {
   "cell_type": "code",
   "execution_count": 1,
   "id": "5dd7ad67-30e7-4937-ad47-ab0ebfcc6a8d",
   "metadata": {},
   "outputs": [],
   "source": [
    "import pickle"
   ]
  },
  {
   "cell_type": "code",
   "execution_count": 2,
   "id": "5edc198b-c647-48b5-8067-05df8038de98",
   "metadata": {},
   "outputs": [],
   "source": [
    "with open('cleaned_text.pkl', 'rb') as f:\n",
    "    df = pickle.load(f)"
   ]
  },
  {
   "cell_type": "code",
   "execution_count": 3,
   "id": "e4997d40-7549-429e-9c5d-f3b312ddcbca",
   "metadata": {},
   "outputs": [
    {
     "data": {
      "text/html": [
       "<div>\n",
       "<style scoped>\n",
       "    .dataframe tbody tr th:only-of-type {\n",
       "        vertical-align: middle;\n",
       "    }\n",
       "\n",
       "    .dataframe tbody tr th {\n",
       "        vertical-align: top;\n",
       "    }\n",
       "\n",
       "    .dataframe thead th {\n",
       "        text-align: right;\n",
       "    }\n",
       "</style>\n",
       "<table border=\"1\" class=\"dataframe\">\n",
       "  <thead>\n",
       "    <tr style=\"text-align: right;\">\n",
       "      <th></th>\n",
       "      <th>combined_text</th>\n",
       "      <th>rating</th>\n",
       "    </tr>\n",
       "  </thead>\n",
       "  <tbody>\n",
       "    <tr>\n",
       "      <th>0</th>\n",
       "      <td>great story line slow going first bad kept int...</td>\n",
       "      <td>5</td>\n",
       "    </tr>\n",
       "    <tr>\n",
       "      <th>1</th>\n",
       "      <td>rushed story skip ahead fast thing explained p...</td>\n",
       "      <td>2</td>\n",
       "    </tr>\n",
       "    <tr>\n",
       "      <th>2</th>\n",
       "      <td>lot history two meet get hot hurry good book s...</td>\n",
       "      <td>5</td>\n",
       "    </tr>\n",
       "    <tr>\n",
       "      <th>3</th>\n",
       "      <td>great fun read right length relaxing getting i...</td>\n",
       "      <td>5</td>\n",
       "    </tr>\n",
       "    <tr>\n",
       "      <th>4</th>\n",
       "      <td>gave book 3 star simply writing little awkward...</td>\n",
       "      <td>3</td>\n",
       "    </tr>\n",
       "  </tbody>\n",
       "</table>\n",
       "</div>"
      ],
      "text/plain": [
       "                                       combined_text  rating\n",
       "0  great story line slow going first bad kept int...       5\n",
       "1  rushed story skip ahead fast thing explained p...       2\n",
       "2  lot history two meet get hot hurry good book s...       5\n",
       "3  great fun read right length relaxing getting i...       5\n",
       "4  gave book 3 star simply writing little awkward...       3"
      ]
     },
     "execution_count": 3,
     "metadata": {},
     "output_type": "execute_result"
    }
   ],
   "source": [
    "df.head()"
   ]
  },
  {
   "cell_type": "code",
   "execution_count": 4,
   "id": "a491e09c-52fe-4266-8432-b2f04450a898",
   "metadata": {},
   "outputs": [
    {
     "name": "stdout",
     "output_type": "stream",
     "text": [
      "<class 'pandas.core.frame.DataFrame'>\n",
      "Index: 9096 entries, 0 to 9599\n",
      "Data columns (total 2 columns):\n",
      " #   Column         Non-Null Count  Dtype \n",
      "---  ------         --------------  ----- \n",
      " 0   combined_text  9096 non-null   object\n",
      " 1   rating         9096 non-null   int64 \n",
      "dtypes: int64(1), object(1)\n",
      "memory usage: 213.2+ KB\n"
     ]
    }
   ],
   "source": [
    "df.info()"
   ]
  },
  {
   "cell_type": "code",
   "execution_count": 5,
   "id": "01d33f31-54b7-45c4-abf8-15756b8d0a89",
   "metadata": {},
   "outputs": [
    {
     "data": {
      "text/plain": [
       "0       5\n",
       "1       2\n",
       "2       5\n",
       "3       5\n",
       "4       3\n",
       "       ..\n",
       "9594    4\n",
       "9595    2\n",
       "9596    2\n",
       "9598    4\n",
       "9599    5\n",
       "Name: rating, Length: 9096, dtype: int64"
      ]
     },
     "execution_count": 5,
     "metadata": {},
     "output_type": "execute_result"
    }
   ],
   "source": [
    "df[\"rating\"]"
   ]
  },
  {
   "cell_type": "code",
   "execution_count": 6,
   "id": "634b0be7-d69b-451a-a966-5b13f33b91da",
   "metadata": {},
   "outputs": [],
   "source": [
    "from sklearn.model_selection import train_test_split"
   ]
  },
  {
   "cell_type": "code",
   "execution_count": 7,
   "id": "07b8e8c2-2d1c-4569-8e6e-9d4f7be22b1b",
   "metadata": {},
   "outputs": [],
   "source": [
    "X = df['combined_text']\n",
    "y = df['rating']\n",
    "\n",
    "X_train, X_test, y_train, y_test = train_test_split(X, y, test_size=0.2, random_state=42)"
   ]
  },
  {
   "cell_type": "code",
   "execution_count": 8,
   "id": "d49bb1c9-6eea-4dd4-8e13-3f3a0fbe6ce1",
   "metadata": {},
   "outputs": [],
   "source": [
    "X_train, X_val, y_train, y_val = train_test_split(X_train, y_train, test_size=0.1, random_state=42)\n"
   ]
  },
  {
   "cell_type": "code",
   "execution_count": 9,
   "id": "1f1e5e12-d514-4ff4-a9f6-67cc25f5167e",
   "metadata": {},
   "outputs": [
    {
     "name": "stdout",
     "output_type": "stream",
     "text": [
      "Train set: 6548\n",
      "Validation set: 728\n",
      "Test set: 1820\n"
     ]
    }
   ],
   "source": [
    "print(f\"Train set: {len(X_train)}\")\n",
    "print(f\"Validation set: {len(X_val)}\")\n",
    "print(f\"Test set: {len(X_test)}\")"
   ]
  },
  {
   "cell_type": "code",
   "execution_count": 11,
   "id": "f5161689-0a79-47bb-aa56-ebadec17b61b",
   "metadata": {},
   "outputs": [],
   "source": [
    "from tensorflow.keras.preprocessing.text import Tokenizer\n",
    "from tensorflow.keras.preprocessing.sequence import pad_sequences"
   ]
  },
  {
   "cell_type": "code",
   "execution_count": 12,
   "id": "587d514e-00dd-423f-bc74-feec5dbda46d",
   "metadata": {},
   "outputs": [
    {
     "name": "stdout",
     "output_type": "stream",
     "text": [
      "Toplam benzersiz kelime sayısı: 31007\n"
     ]
    }
   ],
   "source": [
    "tokenizer = Tokenizer()\n",
    "tokenizer.fit_on_texts(df[\"combined_text\"])\n",
    "\n",
    "print(f\"Toplam benzersiz kelime sayısı: {len(tokenizer.word_index)}\")\n"
   ]
  },
  {
   "cell_type": "code",
   "execution_count": 13,
   "id": "e3d1a059-c085-4114-a558-40772be4d148",
   "metadata": {},
   "outputs": [],
   "source": [
    "tokenizer = Tokenizer(num_words=5000, oov_token=\"<OOV>\")\n",
    "tokenizer.fit_on_texts(X_train)"
   ]
  },
  {
   "cell_type": "code",
   "execution_count": 14,
   "id": "5abcec3f-abff-4af0-8486-d1e7c4e6153b",
   "metadata": {},
   "outputs": [],
   "source": [
    "X_train_seq = tokenizer.texts_to_sequences(X_train)\n",
    "X_val_seq= tokenizer.texts_to_sequences(X_val)\n",
    "X_test_seq = tokenizer.texts_to_sequences(X_test)"
   ]
  },
  {
   "cell_type": "code",
   "execution_count": 15,
   "id": "e069f14b-8524-47e6-9221-6d96072d36fc",
   "metadata": {},
   "outputs": [],
   "source": [
    "import numpy as np\n",
    "import matplotlib.pyplot as plt"
   ]
  },
  {
   "cell_type": "code",
   "execution_count": 16,
   "id": "2c6ec040-0bfb-427c-bacf-8a3025dc0cfe",
   "metadata": {},
   "outputs": [],
   "source": [
    "word_counts = [len(text.split()) for text in df['combined_text']]"
   ]
  },
  {
   "cell_type": "code",
   "execution_count": 17,
   "id": "146e5846-52c7-431d-9e2c-5b5c93cd8e9c",
   "metadata": {},
   "outputs": [
    {
     "data": {
      "image/png": "[encoded data removed]",
      "text/plain": [
       "<Figure size 800x500 with 1 Axes>"
      ]
     },
     "metadata": {},
     "output_type": "display_data"
    }
   ],
   "source": [
    "plt.figure(figsize=(8, 5))\n",
    "plt.hist(word_counts, bins=50, edgecolor='black')\n",
    "plt.xlabel('Kelime Sayısı')\n",
    "plt.ylabel('Frekans')\n",
    "plt.title('Yorumlardaki Kelime Sayısı Dağılımı')\n",
    "plt.show()"
   ]
  },
  {
   "cell_type": "code",
   "execution_count": 18,
   "id": "681bfb73-ad79-419f-aadc-32da19774192",
   "metadata": {},
   "outputs": [
    {
     "name": "stdout",
     "output_type": "stream",
     "text": [
      "%95'lik dilim: 134\n"
     ]
    }
   ],
   "source": [
    "max_len_95 = int(np.percentile(word_counts, 95))\n",
    "print(f\"%95'lik dilim: {max_len_95}\")\n"
   ]
  },
  {
   "cell_type": "code",
   "execution_count": 19,
   "id": "964dd4c1-7dcf-41bd-9ebb-991154e93639",
   "metadata": {},
   "outputs": [],
   "source": [
    "max_len = 150"
   ]
  },
  {
   "cell_type": "code",
   "execution_count": 20,
   "id": "f3ac4b87-4828-4022-85d6-821ecdd5c625",
   "metadata": {},
   "outputs": [],
   "source": [
    "X_train_pad = pad_sequences(X_train_seq, maxlen=max_len, padding='post', truncating='post')\n",
    "X_val_pad = pad_sequences(X_val_seq, maxlen=max_len, padding='post')\n",
    "X_test_pad = pad_sequences(X_test_seq, maxlen=max_len, padding='post', truncating='post')"
   ]
  },
  {
   "cell_type": "code",
   "execution_count": 26,
   "id": "01469ff2-9253-4860-bf47-e74443f6bbd6",
   "metadata": {},
   "outputs": [],
   "source": [
    "import tensorflow as tf\n",
    "from tensorflow.keras.models import Sequential\n",
    "from tensorflow.keras.layers import Embedding, LSTM, Dense, Dropout, Embedding\n",
    "from tensorflow.keras.optimizers import Adam"
   ]
  },
  {
   "cell_type": "code",
   "execution_count": 27,
   "id": "7250a357-e5b3-4130-a502-f697b0746553",
   "metadata": {},
   "outputs": [],
   "source": [
    "def build_model(hp):\n",
    "    model = Sequential([\n",
    "        Embedding(input_dim=5000, \n",
    "                  output_dim=hp.Int('embedding_dim', min_value=100, max_value=300, step=50), \n",
    "                  input_length=308),\n",
    "        LSTM(units=hp.Int('lstm_units', min_value=64, max_value=256, step=64), return_sequences=False),\n",
    "        Dropout(rate=hp.Float('dropout', min_value=0.2, max_value=0.5, step=0.1)),\n",
    "        Dense(5, activation='softmax') \n",
    "    ])\n",
    "\n",
    "    optimizer = tf.keras.optimizers.Adam(\n",
    "        learning_rate=hp.Choice('learning_rate', [0.001, 0.0005, 0.0001])\n",
    "    )\n",
    "    model.compile(loss='sparse_categorical_crossentropy', optimizer=optimizer, metrics=['accuracy'])\n",
    "    return model\n"
   ]
  },
  {
   "cell_type": "code",
   "execution_count": 23,
   "id": "2bd3196d-ac94-4a75-9ca7-9e1c49d641b9",
   "metadata": {},
   "outputs": [],
   "source": [
    "y_train = y_train - 1 \n",
    "y_val = y_val - 1"
   ]
  },
  {
   "cell_type": "code",
   "execution_count": 32,
   "id": "871dbc44-104e-4468-b756-d5cf4ef71b08",
   "metadata": {},
   "outputs": [
    {
     "name": "stdout",
     "output_type": "stream",
     "text": [
      "Trial 90 Complete [00h 07m 10s]\n",
      "val_accuracy: 0.3404580056667328\n",
      "\n",
      "Best val_accuracy So Far: 0.4801526665687561\n",
      "Total elapsed time: 02h 16m 01s\n"
     ]
    }
   ],
   "source": [
    "import keras_tuner as kt\n",
    "tuner = kt.Hyperband(\n",
    "    build_model,\n",
    "    objective='val_accuracy',  \n",
    "    max_epochs=10,\n",
    "    factor=3,\n",
    "    directory='my_tuning',\n",
    "    project_name='lstm_tuning'\n",
    ")\n",
    "\n",
    "tuner.search(X_train_pad, y_train, validation_split=0.2, epochs=10, batch_size=64)\n"
   ]
  },
  {
   "cell_type": "code",
   "execution_count": 34,
   "id": "f8a9aef2-bf69-4d2a-a86e-13a72c7d4c17",
   "metadata": {},
   "outputs": [
    {
     "name": "stdout",
     "output_type": "stream",
     "text": [
      "En iyi parametreler: LSTM: 64, Dropout: 0.2, LR: 0.001\n",
      "Epoch 1/20\n",
      "\u001b[1m82/82\u001b[0m \u001b[32m━━━━━━━━━━━━━━━━━━━━\u001b[0m\u001b[37m\u001b[0m \u001b[1m7s\u001b[0m 75ms/step - accuracy: 0.2560 - loss: 1.5924 - val_accuracy: 0.2336 - val_loss: 1.6003\n",
      "Epoch 2/20\n",
      "\u001b[1m82/82\u001b[0m \u001b[32m━━━━━━━━━━━━━━━━━━━━\u001b[0m\u001b[37m\u001b[0m \u001b[1m7s\u001b[0m 79ms/step - accuracy: 0.2679 - loss: 1.5934 - val_accuracy: 0.2336 - val_loss: 1.6077\n",
      "Epoch 3/20\n",
      "\u001b[1m82/82\u001b[0m \u001b[32m━━━━━━━━━━━━━━━━━━━━\u001b[0m\u001b[37m\u001b[0m \u001b[1m7s\u001b[0m 84ms/step - accuracy: 0.2686 - loss: 1.5904 - val_accuracy: 0.2344 - val_loss: 1.6051\n",
      "Epoch 4/20\n",
      "\u001b[1m82/82\u001b[0m \u001b[32m━━━━━━━━━━━━━━━━━━━━\u001b[0m\u001b[37m\u001b[0m \u001b[1m7s\u001b[0m 85ms/step - accuracy: 0.2702 - loss: 1.5837 - val_accuracy: 0.2389 - val_loss: 1.5990\n",
      "Epoch 5/20\n",
      "\u001b[1m82/82\u001b[0m \u001b[32m━━━━━━━━━━━━━━━━━━━━\u001b[0m\u001b[37m\u001b[0m \u001b[1m7s\u001b[0m 85ms/step - accuracy: 0.2823 - loss: 1.5646 - val_accuracy: 0.2351 - val_loss: 1.6042\n",
      "Epoch 6/20\n",
      "\u001b[1m82/82\u001b[0m \u001b[32m━━━━━━━━━━━━━━━━━━━━\u001b[0m\u001b[37m\u001b[0m \u001b[1m7s\u001b[0m 86ms/step - accuracy: 0.2812 - loss: 1.5612 - val_accuracy: 0.2321 - val_loss: 1.6129\n",
      "Epoch 7/20\n",
      "\u001b[1m82/82\u001b[0m \u001b[32m━━━━━━━━━━━━━━━━━━━━\u001b[0m\u001b[37m\u001b[0m \u001b[1m7s\u001b[0m 86ms/step - accuracy: 0.2700 - loss: 1.5372 - val_accuracy: 0.2359 - val_loss: 1.5992\n",
      "Epoch 8/20\n",
      "\u001b[1m82/82\u001b[0m \u001b[32m━━━━━━━━━━━━━━━━━━━━\u001b[0m\u001b[37m\u001b[0m \u001b[1m7s\u001b[0m 86ms/step - accuracy: 0.2864 - loss: 1.5282 - val_accuracy: 0.2397 - val_loss: 1.6051\n",
      "Epoch 9/20\n",
      "\u001b[1m82/82\u001b[0m \u001b[32m━━━━━━━━━━━━━━━━━━━━\u001b[0m\u001b[37m\u001b[0m \u001b[1m7s\u001b[0m 86ms/step - accuracy: 0.2911 - loss: 1.5252 - val_accuracy: 0.2389 - val_loss: 1.6106\n",
      "Epoch 10/20\n",
      "\u001b[1m82/82\u001b[0m \u001b[32m━━━━━━━━━━━━━━━━━━━━\u001b[0m\u001b[37m\u001b[0m \u001b[1m7s\u001b[0m 85ms/step - accuracy: 0.2969 - loss: 1.5244 - val_accuracy: 0.2344 - val_loss: 1.6050\n",
      "Epoch 11/20\n",
      "\u001b[1m82/82\u001b[0m \u001b[32m━━━━━━━━━━━━━━━━━━━━\u001b[0m\u001b[37m\u001b[0m \u001b[1m7s\u001b[0m 86ms/step - accuracy: 0.2874 - loss: 1.5221 - val_accuracy: 0.2359 - val_loss: 1.6006\n",
      "Epoch 12/20\n",
      "\u001b[1m82/82\u001b[0m \u001b[32m━━━━━━━━━━━━━━━━━━━━\u001b[0m\u001b[37m\u001b[0m \u001b[1m7s\u001b[0m 84ms/step - accuracy: 0.2862 - loss: 1.5154 - val_accuracy: 0.2435 - val_loss: 1.6044\n",
      "Epoch 13/20\n",
      "\u001b[1m82/82\u001b[0m \u001b[32m━━━━━━━━━━━━━━━━━━━━\u001b[0m\u001b[37m\u001b[0m \u001b[1m7s\u001b[0m 89ms/step - accuracy: 0.2779 - loss: 1.5252 - val_accuracy: 0.2412 - val_loss: 1.6065\n",
      "Epoch 14/20\n",
      "\u001b[1m82/82\u001b[0m \u001b[32m━━━━━━━━━━━━━━━━━━━━\u001b[0m\u001b[37m\u001b[0m \u001b[1m7s\u001b[0m 89ms/step - accuracy: 0.2863 - loss: 1.5148 - val_accuracy: 0.2389 - val_loss: 1.6242\n",
      "Epoch 15/20\n",
      "\u001b[1m82/82\u001b[0m \u001b[32m━━━━━━━━━━━━━━━━━━━━\u001b[0m\u001b[37m\u001b[0m \u001b[1m7s\u001b[0m 91ms/step - accuracy: 0.2831 - loss: 1.5212 - val_accuracy: 0.2534 - val_loss: 1.6041\n",
      "Epoch 16/20\n",
      "\u001b[1m82/82\u001b[0m \u001b[32m━━━━━━━━━━━━━━━━━━━━\u001b[0m\u001b[37m\u001b[0m \u001b[1m7s\u001b[0m 87ms/step - accuracy: 0.3088 - loss: 1.4994 - val_accuracy: 0.2664 - val_loss: 1.6190\n",
      "Epoch 17/20\n",
      "\u001b[1m82/82\u001b[0m \u001b[32m━━━━━━━━━━━━━━━━━━━━\u001b[0m\u001b[37m\u001b[0m \u001b[1m7s\u001b[0m 91ms/step - accuracy: 0.3378 - loss: 1.4569 - val_accuracy: 0.2405 - val_loss: 1.5323\n",
      "Epoch 18/20\n",
      "\u001b[1m82/82\u001b[0m \u001b[32m━━━━━━━━━━━━━━━━━━━━\u001b[0m\u001b[37m\u001b[0m \u001b[1m7s\u001b[0m 90ms/step - accuracy: 0.2500 - loss: 1.6228 - val_accuracy: 0.3221 - val_loss: 1.5276\n",
      "Epoch 19/20\n",
      "\u001b[1m82/82\u001b[0m \u001b[32m━━━━━━━━━━━━━━━━━━━━\u001b[0m\u001b[37m\u001b[0m \u001b[1m7s\u001b[0m 89ms/step - accuracy: 0.3586 - loss: 1.4114 - val_accuracy: 0.3267 - val_loss: 1.4097\n",
      "Epoch 20/20\n",
      "\u001b[1m82/82\u001b[0m \u001b[32m━━━━━━━━━━━━━━━━━━━━\u001b[0m\u001b[37m\u001b[0m \u001b[1m7s\u001b[0m 86ms/step - accuracy: 0.4121 - loss: 1.2796 - val_accuracy: 0.3977 - val_loss: 1.3567\n"
     ]
    }
   ],
   "source": [
    "best_hps = tuner.get_best_hyperparameters(num_trials=1)[0]\n",
    "print(f\"En iyi parametreler: LSTM: {best_hps.get('lstm_units')}, Dropout: {best_hps.get('dropout')}, LR: {best_hps.get('learning_rate')}\")\n",
    "\n",
    "best_model = tuner.hypermodel.build(best_hps)\n",
    "best_model.fit(X_train_pad, y_train, validation_split=0.2, epochs=20, batch_size=64)\n",
    "\n",
    "best_model.save(\"best_lstm_model.keras\")\n"
   ]
  },
  {
   "cell_type": "code",
   "execution_count": 33,
   "id": "9d7bfeff-eb7a-411a-8eb5-0051f8087923",
   "metadata": {},
   "outputs": [],
   "source": [
    "y_test=y_test-1"
   ]
  },
  {
   "cell_type": "code",
   "execution_count": 35,
   "id": "c2c9dbb1-fe49-4b75-b1d4-95d719715d03",
   "metadata": {},
   "outputs": [],
   "source": [
    "with open(\"tokenizer.pkl\", \"wb\") as f:\n",
    "    pickle.dump(tokenizer, f)"
   ]
  },
  {
   "cell_type": "code",
   "execution_count": null,
   "id": "27987963-6650-43be-9168-027d5400aaca",
   "metadata": {},
   "outputs": [],
   "source": []
  }
 ],
 "metadata": {
  "kernelspec": {
   "display_name": "Python 3 (ipykernel)",
   "language": "python",
   "name": "python3"
  },
  "language_info": {
   "codemirror_mode": {
    "name": "ipython",
    "version": 3
   },
   "file_extension": ".py",
   "mimetype": "text/x-python",
   "name": "python",
   "nbconvert_exporter": "python",
   "pygments_lexer": "ipython3",
   "version": "3.10.0"
  }
 },
 "nbformat": 4,
 "nbformat_minor": 5
}
