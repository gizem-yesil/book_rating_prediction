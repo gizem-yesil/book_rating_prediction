{
 "cells": [
  {
   "cell_type": "code",
   "execution_count": 1,
   "id": "cd3acff4-1355-4275-b5db-9b887dc9a090",
   "metadata": {},
   "outputs": [],
   "source": [
    "import pickle"
   ]
  },
  {
   "cell_type": "code",
   "execution_count": 2,
   "id": "973b5f4f-3438-429a-9341-78715fc96a6a",
   "metadata": {},
   "outputs": [],
   "source": [
    "with open('cleaned_text.pkl', 'rb') as f:\n",
    "    df = pickle.load(f)"
   ]
  },
  {
   "cell_type": "code",
   "execution_count": 3,
   "id": "03ae5b64-1b1f-4cd6-9cec-640365cb3c7c",
   "metadata": {},
   "outputs": [
    {
     "data": {
      "text/html": [
       "<div>\n",
       "<style scoped>\n",
       "    .dataframe tbody tr th:only-of-type {\n",
       "        vertical-align: middle;\n",
       "    }\n",
       "\n",
       "    .dataframe tbody tr th {\n",
       "        vertical-align: top;\n",
       "    }\n",
       "\n",
       "    .dataframe thead th {\n",
       "        text-align: right;\n",
       "    }\n",
       "</style>\n",
       "<table border=\"1\" class=\"dataframe\">\n",
       "  <thead>\n",
       "    <tr style=\"text-align: right;\">\n",
       "      <th></th>\n",
       "      <th>combined_text</th>\n",
       "      <th>rating</th>\n",
       "    </tr>\n",
       "  </thead>\n",
       "  <tbody>\n",
       "    <tr>\n",
       "      <th>0</th>\n",
       "      <td>great story line slow going first bad kept int...</td>\n",
       "      <td>5</td>\n",
       "    </tr>\n",
       "    <tr>\n",
       "      <th>1</th>\n",
       "      <td>rushed story skip ahead fast thing explained p...</td>\n",
       "      <td>2</td>\n",
       "    </tr>\n",
       "    <tr>\n",
       "      <th>2</th>\n",
       "      <td>lot history two meet get hot hurry good book s...</td>\n",
       "      <td>5</td>\n",
       "    </tr>\n",
       "    <tr>\n",
       "      <th>3</th>\n",
       "      <td>great fun read right length relaxing getting i...</td>\n",
       "      <td>5</td>\n",
       "    </tr>\n",
       "    <tr>\n",
       "      <th>4</th>\n",
       "      <td>gave book 3 star simply writing little awkward...</td>\n",
       "      <td>3</td>\n",
       "    </tr>\n",
       "  </tbody>\n",
       "</table>\n",
       "</div>"
      ],
      "text/plain": [
       "                                       combined_text  rating\n",
       "0  great story line slow going first bad kept int...       5\n",
       "1  rushed story skip ahead fast thing explained p...       2\n",
       "2  lot history two meet get hot hurry good book s...       5\n",
       "3  great fun read right length relaxing getting i...       5\n",
       "4  gave book 3 star simply writing little awkward...       3"
      ]
     },
     "execution_count": 3,
     "metadata": {},
     "output_type": "execute_result"
    }
   ],
   "source": [
    "df.head()"
   ]
  },
  {
   "cell_type": "code",
   "execution_count": 4,
   "id": "a0637d1f-211b-461b-abd2-4c08088b7151",
   "metadata": {},
   "outputs": [
    {
     "data": {
      "text/plain": [
       "count    9083.000000\n",
       "mean       46.175052\n",
       "std        38.628713\n",
       "min         6.000000\n",
       "25%        18.000000\n",
       "50%        31.000000\n",
       "75%        62.000000\n",
       "max       202.000000\n",
       "Name: combined_text, dtype: float64"
      ]
     },
     "execution_count": 4,
     "metadata": {},
     "output_type": "execute_result"
    }
   ],
   "source": [
    "df[\"combined_text\"].str.split().apply(len).describe()"
   ]
  },
  {
   "cell_type": "code",
   "execution_count": 5,
   "id": "0253068c-308e-433b-a1aa-114ed360cdd7",
   "metadata": {},
   "outputs": [],
   "source": [
    "MAX_LENGTH = 100  # Sabit uzunluk belirle\n",
    "\n",
    "def pad_text(text, max_length=MAX_LENGTH):\n",
    "    words = text.split()\n",
    "    if len(words) < max_length:\n",
    "        words += [\"<PAD>\"] * (max_length - len(words))\n",
    "    return \" \".join(words[:max_length])\n",
    "\n",
    "df[\"combined_text\"] = df[\"combined_text\"].apply(pad_text)\n"
   ]
  },
  {
   "cell_type": "code",
   "execution_count": 7,
   "id": "6f0d80e4-1004-4af4-8658-04b39ae40619",
   "metadata": {},
   "outputs": [],
   "source": [
    "from gensim.models import Word2Vec\n",
    "import numpy as np\n",
    "\n",
    "sentences = [text.split() for text in df[\"combined_text\"]]\n",
    "\n",
    "word2vec_model = Word2Vec(sentences,\n",
    "                          vector_size=200,\n",
    "                          window=5,\n",
    "                          min_count=2,\n",
    "                          workers=4,\n",
    "                          sg=1,\n",
    "                          epochs=20\n",
    "                          )\n",
    "\n",
    "word2vec_model.save(\"word2vec_model.bin\")\n"
   ]
  },
  {
   "cell_type": "code",
   "execution_count": 8,
   "id": "caf5e53b-c411-45d7-abfb-4e148bfbbd5a",
   "metadata": {},
   "outputs": [
    {
     "name": "stdout",
     "output_type": "stream",
     "text": [
      " Word2Vec özellik boyutu: (9083, 200)\n"
     ]
    }
   ],
   "source": [
    "def vectorize_text(text, model, vector_size=200):\n",
    "    words = text.split()\n",
    "    word_vectors = [model.wv[word] for word in words if word in model.wv]\n",
    "    \n",
    "    if len(word_vectors) > 0:\n",
    "        return np.mean(word_vectors, axis=0)  \n",
    "    else:\n",
    "        return np.zeros(vector_size) \n",
    "\n",
    "\n",
    "X_word2vec = np.array([vectorize_text(text, word2vec_model) for text in df[\"combined_text\"].astype(str)])\n",
    "\n",
    "print(f\" Word2Vec özellik boyutu: {X_word2vec.shape}\")\n"
   ]
  },
  {
   "cell_type": "code",
   "execution_count": 9,
   "id": "f3f75f52-e8f4-42af-a8e9-4066ce9bb471",
   "metadata": {},
   "outputs": [
    {
     "name": "stdout",
     "output_type": "stream",
     "text": [
      " Train Set: (7266, 200), Test Set: (1817, 200)\n"
     ]
    }
   ],
   "source": [
    "from sklearn.model_selection import train_test_split\n",
    "\n",
    "X_train, X_test, y_train, y_test = train_test_split(X_word2vec, df[\"rating\"], test_size=0.2, random_state=42)\n",
    "\n",
    "print(f\" Train Set: {X_train.shape}, Test Set: {X_test.shape}\")\n"
   ]
  },
  {
   "cell_type": "code",
   "execution_count": 10,
   "id": "9b744ce2-9d82-4515-8b69-ccd2aa54112b",
   "metadata": {},
   "outputs": [],
   "source": [
    "from sklearn.ensemble import RandomForestClassifier\n",
    "from sklearn.metrics import accuracy_score, classification_report"
   ]
  },
  {
   "cell_type": "code",
   "execution_count": 15,
   "id": "d916de2c-ad13-4f49-b4b4-17a72a7cc582",
   "metadata": {},
   "outputs": [
    {
     "name": "stdout",
     "output_type": "stream",
     "text": [
      "Fitting 3 folds for each of 54 candidates, totalling 162 fits\n",
      "Best Parameters: {'max_depth': 20, 'min_samples_leaf': 2, 'min_samples_split': 5, 'n_estimators': 500}\n"
     ]
    }
   ],
   "source": [
    "from sklearn.ensemble import RandomForestRegressor\n",
    "from sklearn.model_selection import GridSearchCV\n",
    "\n",
    "param_grid = {\n",
    "    \"n_estimators\": [100, 300, 500],\n",
    "    \"max_depth\": [10, 20],\n",
    "    \"min_samples_split\": [2, 5, 10],\n",
    "    \"min_samples_leaf\": [1, 2, 4]\n",
    "}\n",
    "\n",
    "rf = RandomForestRegressor(random_state=42)\n",
    "\n",
    "grid_search = GridSearchCV(rf, param_grid, cv=3, scoring=\"r2\", n_jobs=-1,verbose=2)\n",
    "grid_search.fit(X_train, y_train)\n",
    "\n",
    "print(\"Best Parameters:\", grid_search.best_params_)\n",
    "best_rf = grid_search.best_estimator_\n"
   ]
  },
  {
   "cell_type": "code",
   "execution_count": 16,
   "id": "299ecf6f-d90e-4d83-a578-725882515b68",
   "metadata": {},
   "outputs": [
    {
     "name": "stdout",
     "output_type": "stream",
     "text": [
      "Train Accuracy: 0.7348\n",
      "Test Accuracy: 0.3330\n"
     ]
    }
   ],
   "source": [
    "y_pred_train = best_rf.predict(X_train)\n",
    "y_pred_test = best_rf.predict(X_test)\n",
    "\n",
    "\n",
    "y_pred_train = [round(pred) for pred in y_pred_train]\n",
    "y_pred_test = [round(pred) for pred in y_pred_test]\n",
    "\n",
    "\n",
    "train_acc = accuracy_score(y_train, y_pred_train)\n",
    "test_acc = accuracy_score(y_test, y_pred_test)\n",
    "\n",
    "print(f\"Train Accuracy: {train_acc:.4f}\")\n",
    "print(f\"Test Accuracy: {test_acc:.4f}\")"
   ]
  },
  {
   "cell_type": "code",
   "execution_count": 18,
   "id": "4b31450c-e99d-44ea-b07f-7c35d2e228bd",
   "metadata": {},
   "outputs": [],
   "source": [
    "import pickle"
   ]
  },
  {
   "cell_type": "code",
   "execution_count": 19,
   "id": "74b05a5f-afcd-48b4-b515-c8b8c3739f0b",
   "metadata": {},
   "outputs": [],
   "source": [
    "with open(\"random_forest_model.pkl\", \"wb\") as f:\n",
    "    pickle.dump(best_rf, f)"
   ]
  },
  {
   "cell_type": "code",
   "execution_count": null,
   "id": "bab06ced-4831-4325-884b-7d6843e91646",
   "metadata": {},
   "outputs": [],
   "source": []
  }
 ],
 "metadata": {
  "kernelspec": {
   "display_name": "Python 3 (ipykernel)",
   "language": "python",
   "name": "python3"
  },
  "language_info": {
   "codemirror_mode": {
    "name": "ipython",
    "version": 3
   },
   "file_extension": ".py",
   "mimetype": "text/x-python",
   "name": "python",
   "nbconvert_exporter": "python",
   "pygments_lexer": "ipython3",
   "version": "3.10.0"
  }
 },
 "nbformat": 4,
 "nbformat_minor": 5
}
